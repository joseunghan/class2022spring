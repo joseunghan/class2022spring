{
  "nbformat": 4,
  "nbformat_minor": 0,
  "metadata": {
    "colab": {
      "name": "20220316.ipynb",
      "provenance": [],
      "authorship_tag": "ABX9TyNS5hpox8UFBp5zmgKkr6hT",
      "include_colab_link": true
    },
    "kernelspec": {
      "name": "python3",
      "display_name": "Python 3"
    },
    "language_info": {
      "name": "python"
    }
  },
  "cells": [
    {
      "cell_type": "markdown",
      "metadata": {
        "id": "view-in-github",
        "colab_type": "text"
      },
      "source": [
        "<a href=\"https://colab.research.google.com/github/joseunghan/class2022spring/blob/main/20220316.ipynb\" target=\"_parent\"><img src=\"https://colab.research.google.com/assets/colab-badge.svg\" alt=\"Open In Colab\"/></a>"
      ]
    },
    {
      "cell_type": "code",
      "execution_count": null,
      "metadata": {
        "colab": {
          "base_uri": "https://localhost:8080/"
        },
        "id": "pGqR3YV-YdPV",
        "outputId": "68965438-753a-4a6e-fa5f-52e260912272"
      },
      "outputs": [
        {
          "output_type": "stream",
          "name": "stdout",
          "text": [
            "<class 'int'>\n"
          ]
        }
      ],
      "source": [
        "a = 2 ; print(type(a))"
      ]
    },
    {
      "cell_type": "markdown",
      "source": [
        "정수인 숫자의 type은 'int'"
      ],
      "metadata": {
        "id": "mlcGwMWVdrSD"
      }
    },
    {
      "cell_type": "code",
      "source": [
        "b = 2.2 ; print(type(b))"
      ],
      "metadata": {
        "colab": {
          "base_uri": "https://localhost:8080/"
        },
        "id": "hWXCDUegd0Nw",
        "outputId": "757ed95a-25bc-4e5b-f7ba-7f2164e3ceae"
      },
      "execution_count": null,
      "outputs": [
        {
          "output_type": "stream",
          "name": "stdout",
          "text": [
            "<class 'float'>\n"
          ]
        }
      ]
    },
    {
      "cell_type": "markdown",
      "source": [
        "실수인 숫자의 type은 'float'"
      ],
      "metadata": {
        "id": "WgxVD_lEeLpU"
      }
    },
    {
      "cell_type": "code",
      "source": [
        "c = '조승한' ; print(type(c))"
      ],
      "metadata": {
        "colab": {
          "base_uri": "https://localhost:8080/"
        },
        "id": "EFAgJnsdeJCm",
        "outputId": "40da031e-6eb8-4876-d9f7-d309179c5e3d"
      },
      "execution_count": null,
      "outputs": [
        {
          "output_type": "stream",
          "name": "stdout",
          "text": [
            "<class 'str'>\n"
          ]
        }
      ]
    },
    {
      "cell_type": "markdown",
      "source": [
        "언어의 type은 'str'로 표시됨, 언어를 할당할 경우 ''를 사용하며 '123'처럼 숫자를 언어로 할당하는 것도 가능"
      ],
      "metadata": {
        "id": "DJPxgEvMejQG"
      }
    },
    {
      "cell_type": "code",
      "source": [
        "d = 'joseunghan' ; print(type(d)) ; print(d[1])"
      ],
      "metadata": {
        "colab": {
          "base_uri": "https://localhost:8080/"
        },
        "id": "-Pfs3G2Meic_",
        "outputId": "5df50791-5340-48c6-a97f-f5fb40070c37"
      },
      "execution_count": null,
      "outputs": [
        {
          "output_type": "stream",
          "name": "stdout",
          "text": [
            "<class 'str'>\n",
            "o\n"
          ]
        }
      ]
    },
    {
      "cell_type": "markdown",
      "source": [
        "str의 경우 index를 통해서 내용 일부를 불러오는 것이 가능함, index는 첫글자가 0, 두번째 글자가 1인 식으로 지금은 1, 즉 두번째 글자를 불러와서 o가 나옴"
      ],
      "metadata": {
        "id": "_Eyn3gtDfKlF"
      }
    },
    {
      "cell_type": "code",
      "source": [
        "e = [1 , 2 , 'a' , [3 , '4']] ; print(type(e)) ; print(type(e[0])) ; print(type(e[2])) ; print(type(e[3]))"
      ],
      "metadata": {
        "colab": {
          "base_uri": "https://localhost:8080/"
        },
        "id": "GeLbGuakfrfz",
        "outputId": "bf9c9f5a-6db9-4ca9-9427-4ecaa9930b54"
      },
      "execution_count": null,
      "outputs": [
        {
          "output_type": "stream",
          "name": "stdout",
          "text": [
            "<class 'list'>\n",
            "<class 'int'>\n",
            "<class 'str'>\n",
            "<class 'list'>\n"
          ]
        }
      ]
    },
    {
      "cell_type": "markdown",
      "source": [
        "list를 이용해서 여러 내용을 담을 수 있으며 list 안에는 숫자, 언어가 아이템으로 들어갈 수 있고 list가 list 안에 하나의 아이템으로 들어가는 것도 가능함"
      ],
      "metadata": {
        "id": "vVxx3Qg4gwqG"
      }
    },
    {
      "cell_type": "code",
      "source": [
        "print(e[1]) ; print(e[3]) ; print(e[3][1])"
      ],
      "metadata": {
        "colab": {
          "base_uri": "https://localhost:8080/"
        },
        "id": "37-xbB7ThIXQ",
        "outputId": "9741f9d9-9f66-4cb4-b2e3-487cf89a6a99"
      },
      "execution_count": null,
      "outputs": [
        {
          "output_type": "stream",
          "name": "stdout",
          "text": [
            "2\n",
            "[3, '4']\n",
            "4\n"
          ]
        }
      ]
    },
    {
      "cell_type": "markdown",
      "source": [
        "리스트의 내용을 불러오기 위해서 index를 사용할 수 있음"
      ],
      "metadata": {
        "id": "fcSYXognhqBs"
      }
    },
    {
      "cell_type": "code",
      "source": [
        "print(e[1:3]) ; print(e[1:-1])"
      ],
      "metadata": {
        "colab": {
          "base_uri": "https://localhost:8080/"
        },
        "id": "IeUCrYkqhpZf",
        "outputId": "1203cc94-af0b-4436-d0f1-0f0d28c62717"
      },
      "execution_count": null,
      "outputs": [
        {
          "output_type": "stream",
          "name": "stdout",
          "text": [
            "[2, 'a']\n",
            "[2, 'a']\n"
          ]
        }
      ]
    },
    {
      "cell_type": "markdown",
      "source": [
        "index의 경우 내용 중 범위를 정해서 일부를 불러올 수 있으며 e[1:3]의 경우 e의 내용 중 두번째부터 3번째까지를 불러오는 것이며 e[1:-1]은 e의 내용 중 두번쨰부터 마지막에서 두번째까지를 불러오는 것이다"
      ],
      "metadata": {
        "id": "iLgp7uzXiZfE"
      }
    },
    {
      "cell_type": "code",
      "source": [
        "f = (1 , 'b' , 3 , (2 , 3)) ; print (type(f)) ; print(f[2])"
      ],
      "metadata": {
        "colab": {
          "base_uri": "https://localhost:8080/"
        },
        "id": "3_eciXJii87Y",
        "outputId": "082c0c86-b1e3-450c-8360-93f5bd09c54d"
      },
      "execution_count": null,
      "outputs": [
        {
          "output_type": "stream",
          "name": "stdout",
          "text": [
            "<class 'tuple'>\n",
            "3\n"
          ]
        }
      ]
    },
    {
      "cell_type": "markdown",
      "source": [
        "tuple은 list와 똑같은 기능을 하지만 list는 내용을 바꾸는 것이 가능한 반면 tuple은 내용을 바꾸는 것이 불가능하다. tuple은 중요한 내용이 바뀌는 것을 방지하기 위해서 쓴다."
      ],
      "metadata": {
        "id": "AlafodVCjzBd"
      }
    },
    {
      "cell_type": "code",
      "source": [
        "g = { 'a': 'melon', 'b':'pineapple'} ; print(type(g)) ; print(g['a'])"
      ],
      "metadata": {
        "colab": {
          "base_uri": "https://localhost:8080/"
        },
        "id": "3O6Xy58fju2M",
        "outputId": "220d907a-b788-4358-95d6-9a13e0bd6e43"
      },
      "execution_count": null,
      "outputs": [
        {
          "output_type": "stream",
          "name": "stdout",
          "text": [
            "<class 'dict'>\n",
            "melon\n"
          ]
        }
      ]
    },
    {
      "cell_type": "markdown",
      "source": [
        "dict는 리스트처럼 나열하는 형식이지만 key와 value의 쌍으로 이루어져 있으며 index로 불러오지 않고 key를 입력해서 value를 가져옴"
      ],
      "metadata": {
        "id": "8dVolT1Pk1wt"
      }
    },
    {
      "cell_type": "code",
      "source": [
        "s = 'joseunghan'\n",
        "print(s[3], s[4], s[-3], s[-4])\n",
        "print(s[0:2], s[:], s[1:], s[:5])"
      ],
      "metadata": {
        "id": "L548CBUjlIXs",
        "outputId": "fa09b29a-652f-4f86-9ef5-258dae9e8683",
        "colab": {
          "base_uri": "https://localhost:8080/"
        }
      },
      "execution_count": 1,
      "outputs": [
        {
          "output_type": "stream",
          "name": "stdout",
          "text": [
            "e u h g\n",
            "jo joseunghan oseunghan joseu\n"
          ]
        }
      ]
    },
    {
      "cell_type": "markdown",
      "source": [
        "string과 list는 유사성을 가지고 인덱스를 할 때는 똑같은 방식으로 인덱스 할 수 있음"
      ],
      "metadata": {
        "id": "bpGOE0FpXDdU"
      }
    },
    {
      "cell_type": "code",
      "source": [
        "len(s)"
      ],
      "metadata": {
        "id": "GnxuH4zPXC-r",
        "outputId": "981a93bc-db3b-4f9a-80a0-8365f96d33a7",
        "colab": {
          "base_uri": "https://localhost:8080/"
        }
      },
      "execution_count": 2,
      "outputs": [
        {
          "output_type": "execute_result",
          "data": {
            "text/plain": [
              "10"
            ]
          },
          "metadata": {},
          "execution_count": 2
        }
      ]
    },
    {
      "cell_type": "markdown",
      "source": [
        "len() 함수를 이용하면 string의 길이를 알 수 있음"
      ],
      "metadata": {
        "id": "8YPJreQnXaxl"
      }
    },
    {
      "cell_type": "code",
      "source": [
        "s[0]+s[2]+s[2:]*3"
      ],
      "metadata": {
        "id": "bNjZGq5XXaEm",
        "outputId": "62cc45f1-14c5-456c-9018-13764b6e5a83",
        "colab": {
          "base_uri": "https://localhost:8080/",
          "height": 35
        }
      },
      "execution_count": 3,
      "outputs": [
        {
          "output_type": "execute_result",
          "data": {
            "text/plain": [
              "'jsseunghanseunghanseunghan'"
            ],
            "application/vnd.google.colaboratory.intrinsic+json": {
              "type": "string"
            }
          },
          "metadata": {},
          "execution_count": 3
        }
      ]
    },
    {
      "cell_type": "markdown",
      "source": [
        "string에도 +와 *의 연산기호를 쓰거나 적용할 수 있음"
      ],
      "metadata": {
        "id": "VivwSGt5XvNN"
      }
    }
  ]
}