{
  "nbformat": 4,
  "nbformat_minor": 0,
  "metadata": {
    "colab": {
      "name": "과제.ipynb",
      "provenance": [],
      "authorship_tag": "ABX9TyMR8gIukfTlcteq2tuNocr5",
      "include_colab_link": true
    },
    "kernelspec": {
      "name": "python3",
      "display_name": "Python 3"
    },
    "language_info": {
      "name": "python"
    }
  },
  "cells": [
    {
      "cell_type": "markdown",
      "metadata": {
        "id": "view-in-github",
        "colab_type": "text"
      },
      "source": [
        "<a href=\"https://colab.research.google.com/github/joseunghan/class2022spring/blob/main/20220328.ipynb\" target=\"_parent\"><img src=\"https://colab.research.google.com/assets/colab-badge.svg\" alt=\"Open In Colab\"/></a>"
      ]
    },
    {
      "cell_type": "code",
      "source": [
        "!pip install gradio\n",
        "import gradio as gr\n",
        "import requests\n",
        "import pandas as pd"
      ],
      "metadata": {
        "id": "1Pyoim0ptScb"
      },
      "execution_count": null,
      "outputs": []
    },
    {
      "cell_type": "code",
      "execution_count": 67,
      "metadata": {
        "id": "cr1SLoDXsfDD"
      },
      "outputs": [],
      "source": [
        "def test(country):\n",
        "  URL = 'http://apis.data.go.kr/1262000/LocalContactService2/getLocalContactList2?serviceKey=EdMDheXUynN%2BFlkppN8LNJRRzttji6bmx9sk5LlUSYpMU60j4nDKNjNdsDlvJ28WahF37s4vgSuWDh0cEOY7UQ%3D%3D&pageNo=1&numOfRows=10&cond[country_nm::EQ]='+country\n",
        "  response = requests.get(URL)\n",
        "  r = response.json()\n",
        "  item = r['data']\n",
        "  contact_remark = [item['contact_remark'] for item in item]\n",
        "  df = pd.DataFrame({'contact_remark': contact_remark})\n",
        "  return df"
      ]
    },
    {
      "cell_type": "code",
      "source": [
        "iface = gr.Interface(test, inputs = [\"text\"], outputs = [\"dataframe\"])\n",
        "iface.launch()"
      ],
      "metadata": {
        "id": "09IHavHEQ_3G"
      },
      "execution_count": null,
      "outputs": []
    },
    {
      "cell_type": "markdown",
      "source": [
        "국가의 이름을 한국어로 입력하면 그 국가에서 비상시 쓸 수 있는 연락처들이 나오는 방식입니다. 해당되는 국가에서 사용 가능한 긴급 연락처와 병원 번호, 영사관 주소, 영사관 전화번호 등 다양한 내용이 포함되어 있으며 국가별로 포함되어 있는 내용이 다릅니다."
      ],
      "metadata": {
        "id": "CDfPjcpwTNBv"
      }
    }
  ]
}