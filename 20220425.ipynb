{
  "nbformat": 4,
  "nbformat_minor": 0,
  "metadata": {
    "colab": {
      "name": "audio_processing.ipynb",
      "provenance": [],
      "include_colab_link": true
    },
    "kernelspec": {
      "name": "python3",
      "display_name": "Python 3"
    },
    "language_info": {
      "name": "python"
    }
  },
  "cells": [
    {
      "cell_type": "markdown",
      "metadata": {
        "id": "view-in-github",
        "colab_type": "text"
      },
      "source": [
        "<a href=\"https://colab.research.google.com/github/joseunghan/class2022spring/blob/main/20220425.ipynb\" target=\"_parent\"><img src=\"https://colab.research.google.com/assets/colab-badge.svg\" alt=\"Open In Colab\"/></a>"
      ]
    },
    {
      "cell_type": "code",
      "metadata": {
        "id": "2WAs2J9dWcUv"
      },
      "source": [
        "import numpy as np\n",
        "import matplotlib.pyplot as plt\n",
        "import IPython.display as ipd\n",
        "import librosa, librosa.display"
      ],
      "execution_count": 1,
      "outputs": []
    },
    {
      "cell_type": "code",
      "metadata": {
        "id": "7QqXtTXxn9B7"
      },
      "source": [
        "# from google.colab import files\n",
        "# fn = files.upload()\n",
        "import os\n",
        "url = \"https://raw.githubusercontent.com/hsnam95/class2022Spring/main/aeiou.wav\"\n",
        "os.system(\"curl \" + url + \" > aeiou.wav\")\n",
        "\n",
        "s, sr = librosa.load('aeiou.wav')"
      ],
      "execution_count": 2,
      "outputs": []
    },
    {
      "cell_type": "markdown",
      "source": [
        "### RMS(Root Mean Square) for intensity"
      ],
      "metadata": {
        "id": "N9NfP2cPCw7P"
      }
    },
    {
      "cell_type": "code",
      "metadata": {
        "id": "MkJTYAixfNhK",
        "outputId": "590aa498-377b-46af-a75b-9e6bbd2486b2",
        "colab": {
          "base_uri": "https://localhost:8080/",
          "height": 284
        }
      },
      "source": [
        "rms = librosa.feature.rms(s)\n",
        "plt.plot(rms[0])"
      ],
      "execution_count": 3,
      "outputs": [
        {
          "output_type": "execute_result",
          "data": {
            "text/plain": [
              "[<matplotlib.lines.Line2D at 0x7f889b5b97d0>]"
            ]
          },
          "metadata": {},
          "execution_count": 3
        },
        {
          "output_type": "display_data",
          "data": {
            "text/plain": [
              "<Figure size 432x288 with 1 Axes>"
            ],
            "image/png": "[encoded data removed]"
          },
          "metadata": {
            "needs_background": "light"
          }
        }
      ]
    },
    {
      "cell_type": "markdown",
      "source": [
        "root mean square는 변화하는 값에 대한 통계 척도로 음과 양을 오가는 사인 함수에서 자주 쓰인다. 값들을 제곱한 뒤 값들의 갯수로 나눠주고 그것에 제곱근을 씌워서 값을 구한다. RMS는 평균 값과 매우 비슷한 성질을 가지는데 음과 양을 오가는 사인 함수의 경우 평균 값을 구하게 되면 0이 되는데 이는 올바른 평균 값을 나타낸다고 볼 수 없다. 그렇기 때문에 사인 함수의 경우 각각의 값에 제곱을 해준 뒤 제곱값의 평균을 구하고 거기에 제곱근을 씌워 원래의 값에 가깝게 해주는 방식으로 RMS를 이용해 올바른 평균 값을 구한다. audio에서 RMS는 시간에 따라서 amplitude가 얼마나 큰지 보여주며 amplitude가 클 경우 소리 크기가 커지기 때문에 RMS에서 높은 값이 나온 시간대는 소리가 크다는 것을 알 수 있다."
      ],
      "metadata": {
        "id": "IMHQz0a9COR-"
      }
    },
    {
      "cell_type": "markdown",
      "source": [
        "### Autocorrelation for pitch(F0) measurement"
      ],
      "metadata": {
        "id": "O9mNH08CDAR-"
      }
    },
    {
      "cell_type": "code",
      "metadata": {
        "id": "PoOGXdFBgpx1",
        "outputId": "92cd7dde-8797-47af-8786-53a7ab623b7f",
        "colab": {
          "base_uri": "https://localhost:8080/",
          "height": 283
        }
      },
      "source": [
        "F0, voiced_flag, voiced_prob = librosa.pyin(s, 60, 200)\n",
        "plt.plot(F0, '.')"
      ],
      "execution_count": 4,
      "outputs": [
        {
          "output_type": "execute_result",
          "data": {
            "text/plain": [
              "[<matplotlib.lines.Line2D at 0x7f889adf4f10>]"
            ]
          },
          "metadata": {},
          "execution_count": 4
        },
        {
          "output_type": "display_data",
          "data": {
            "text/plain": [
              "<Figure size 432x288 with 1 Axes>"
            ],
            "image/png": "[encoded data removed]"
          },
          "metadata": {
            "needs_background": "light"
          }
        }
      ]
    },
    {
      "cell_type": "markdown",
      "source": [
        "autocorrelation은 어떤 신호와 그 신호에서 약간 시간을 지연시킨 신호 사이의 상관관계를 알 수 있게 해주는 지표이다. 시간이 지연된 뒤에도 처음의 신호와 비슷한 성분을 지니고 있다면 높은 값이 나오고 시간이 지연된 뒤 처음의 신호와 비슷한 성분을 지니고 있지 못하면 낮은 값이 나오게 된다. audio signal에서는 높은 autocoorelation을 나타낸다는 것은 지금의 신호가 이전의 신호와 비슷한 성분을 지니고 있다는 것을 의미하며 어떤 성분이 계속 유지되기 위해서는 pitch가 높아야 하기 때문에 높은 autocorrelation은 높은 pitch를 가지는 것을 의미한다. 실제로 위의 plotting도 높은 pitch를 나타내는 부분에서 높은 autocorrelation 값을 가지는 것을 볼 수 있다."
      ],
      "metadata": {
        "id": "TtQHWSuiA-LS"
      }
    }
  ]
}